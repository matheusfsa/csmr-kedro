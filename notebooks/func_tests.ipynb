{
 "cells": [
  {
   "cell_type": "code",
   "execution_count": null,
   "id": "733e678d",
   "metadata": {},
   "outputs": [],
   "source": [
    "from pathlib import Path\n",
    "from kedro.framework.session import KedroSession\n",
    "from kedro.framework.session.session import _activate_session, _deactivate_session\n",
    "from kedro.framework.startup import _add_src_to_path\n",
    "\n",
    "current_dir = Path.cwd()  # this points to 'notebooks/' folder\n",
    "project_path = current_dir.parent  # point back to the root of the project\n",
    "_add_src_to_path(project_path/\"src\", project_path)\n",
    "try:\n",
    "    session = KedroSession.create(\"csmr_kedro\", project_path)\n",
    "    _activate_session(session)\n",
    "    context = session.load_context()\n",
    "    catalog = context.catalog\n",
    "except:\n",
    "    session = KedroSession.create(\"csmr_kedro\", project_path)\n",
    "    context = session.load_context()\n",
    "    catalog = context.catalog\n",
    "    pass"
   ]
  },
  {
   "cell_type": "code",
   "execution_count": null,
   "id": "b92bfa1d-868b-4490-a577-8b39daf660d8",
   "metadata": {},
   "outputs": [],
   "source": [
    "import pandas as pd\n",
    "import numpy as np\n",
    "import seaborn as sns"
   ]
  },
  {
   "cell_type": "code",
   "execution_count": null,
   "id": "728c8cf8-3955-4cc1-b624-140102a5f402",
   "metadata": {},
   "outputs": [],
   "source": [
    "_deactivate_session()\n",
    "session = KedroSession.create(\"csmr_kedro\", project_path)\n",
    "_activate_session(session)\n",
    "context = session.load_context()\n",
    "catalog"
   ]
  },
  {
   "cell_type": "code",
   "execution_count": null,
   "id": "d1503682-cc03-4621-9b72-8cafbf52e549",
   "metadata": {},
   "outputs": [],
   "source": [
    "catalog.load(\"tweets_features\")"
   ]
  },
  {
   "cell_type": "code",
   "execution_count": null,
   "id": "8e3e35da-c51b-46ae-888c-347e37952798",
   "metadata": {},
   "outputs": [],
   "source": [
    "tweets_tb = catalog.load(\"tweets_tb\")"
   ]
  },
  {
   "cell_type": "code",
   "execution_count": null,
   "id": "4c5f8cd3-ce98-4bfa-8c7d-e8246010eefb",
   "metadata": {},
   "outputs": [],
   "source": [
    "catalog.save(\"tweets\", tweets_tb)"
   ]
  },
  {
   "cell_type": "code",
   "execution_count": null,
   "id": "705897b4",
   "metadata": {},
   "outputs": [],
   "source": [
    "sentiment_prediction = catalog.load(\"sentiment_prediction\")\n",
    "tweets = catalog.load(\"tweets\")"
   ]
  },
  {
   "cell_type": "code",
   "execution_count": null,
   "id": "2cea0c93-9add-44a3-bc93-141e263a5cc7",
   "metadata": {},
   "outputs": [],
   "source": [
    "tweets[\"sentiment_prediction\"] = sentiment_prediction.sentiment"
   ]
  },
  {
   "cell_type": "code",
   "execution_count": null,
   "id": "c3062929-ba61-4cd1-8495-4c507825c36e",
   "metadata": {},
   "outputs": [],
   "source": [
    "tweets[\"created_at\"] = pd.to_datetime(tweets.created_at)\n",
    "tweets[\"date\"] = tweets.created_at.dt.date"
   ]
  },
  {
   "cell_type": "code",
   "execution_count": null,
   "id": "463dc12c-668e-4a9b-af40-b1b124ec422e",
   "metadata": {},
   "outputs": [],
   "source": [
    "tweets = tweets.drop(columns=[\"\"])"
   ]
  },
  {
   "cell_type": "code",
   "execution_count": null,
   "id": "982d91c0-c850-4c38-8105-5d4201010c43",
   "metadata": {},
   "outputs": [],
   "source": [
    "sentiment_by_date = tweets.groupby([\"company\", \"date\"]).sentiment_prediction.mean().reset_index()\n",
    "sentiment_by_date"
   ]
  },
  {
   "cell_type": "code",
   "execution_count": null,
   "id": "f8789f15-70d8-4c44-81a6-7c56f0edd4d9",
   "metadata": {},
   "outputs": [],
   "source": [
    "\n",
    "sns.lineplot(data=sentiment_by_date, x=\"date\", y=\"sentiment_prediction\", hue=\"company\")"
   ]
  },
  {
   "cell_type": "code",
   "execution_count": null,
   "id": "c609e8b1-85ac-4f44-88ed-aa738eda3dba",
   "metadata": {},
   "outputs": [],
   "source": [
    "(tweets.company == tweets.company).all()"
   ]
  },
  {
   "cell_type": "code",
   "execution_count": null,
   "id": "823a7756-eff4-4646-9a6e-aaaa3fb7ad8e",
   "metadata": {},
   "outputs": [],
   "source": []
  }
 ],
 "metadata": {
  "kernelspec": {
   "display_name": "CompaniesSMReputation",
   "language": "python",
   "name": "python3"
  },
  "language_info": {
   "codemirror_mode": {
    "name": "ipython",
    "version": 3
   },
   "file_extension": ".py",
   "mimetype": "text/x-python",
   "name": "python",
   "nbconvert_exporter": "python",
   "pygments_lexer": "ipython3",
   "version": "3.8.10"
  }
 },
 "nbformat": 4,
 "nbformat_minor": 5
}
